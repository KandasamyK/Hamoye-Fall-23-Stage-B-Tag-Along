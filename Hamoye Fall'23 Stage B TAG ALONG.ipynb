{
 "cells": [
  {
   "cell_type": "code",
   "execution_count": 1,
   "id": "b6e5a024",
   "metadata": {},
   "outputs": [],
   "source": [
    "import pandas as pd\n",
    "import numpy as np\n",
    "import seaborn as sns\n"
   ]
  },
  {
   "cell_type": "code",
   "execution_count": 3,
   "id": "bd171639",
   "metadata": {},
   "outputs": [],
   "source": [
    "file_path = \"D:/DATA SCIENCE/DS INTERNSHIP/HAMOYE INTERNSHIP/Hamoye Fall'23 Cohort/Stage B/energydata_complete .csv\"\n",
    "df = pd.read_csv(file_path)"
   ]
  },
  {
   "cell_type": "code",
   "execution_count": 5,
   "id": "20b39782",
   "metadata": {},
   "outputs": [],
   "source": [
    "# Rename Columns\n",
    "\n",
    "column_names = {'T1':'Temperature in kitchen area, in Celsius', \n",
    "'RH_1': 'Humidity in kitchen area, in %',\n",
    "\n",
    "'T2': 'Temperature in living room area, in Celsius',\n",
    "\n",
    "'RH_2': 'Humidity in living room area, in %',\n",
    "\n",
    "'T3': 'Temperature in laundry room area',\n",
    "\n",
    "'RH_3': 'Humidity in laundry room area, in %',\n",
    "\n",
    "'T4': 'Temperature in office room, in Celsius',\n",
    "\n",
    "'RH_4': 'Humidity in office room, in %',\n",
    "\n",
    "'T5': 'Temperature in bathroom, in Celsius',\n",
    "\n",
    "'RH_5': 'Humidity in bathroom, in %',\n",
    "\n",
    "'T6': 'Temperature outside the building (north side), in Celsius',\n",
    "\n",
    "'RH_6': 'Humidity outside the building (north side), in %',\n",
    "\n",
    "'T7': 'Temperature in ironing room , in Celsius',\n",
    "\n",
    "'RH_7': 'Humidity in ironing room, in %',\n",
    "\n",
    "'T8': 'Temperature in teenager room 2, in Celsius',\n",
    "\n",
    "'RH_8': 'Humidity in teenager room 2, in %',\n",
    "\n",
    "'T9': 'Temperature in parents room, in Celsius',\n",
    "\n",
    "'RH_9': 'Humidity in parents room, in %',\n",
    "\n",
    "'T_out': 'Temperature outside (from Chievres weather station), in Celsius',\n",
    "\n",
    "'Press_mm_hg':'Pressure (from Chievres weather station), in mm Hg',\n",
    "\n",
    "\"RH_out\": 'Humidity outside (from Chievres weather station), in %',\n",
    "\n",
    "'Windspeed': 'Wind speed (from Chievres weather station), in m/s',\n",
    "\n",
    "'Visibility': 'Visibility (from Chievres weather station), in km',\n",
    "\n",
    "'Tdewpoint': 'Tdewpoint (from Chievres weather station), Â°C',\n",
    "\n",
    "'rv1': 'Random variable 1, nondimensional',\n",
    "\n",
    "'rv2': 'Random variable 2, nondimensional'}"
   ]
  },
  {
   "cell_type": "code",
   "execution_count": 23,
   "id": "2a108c22",
   "metadata": {},
   "outputs": [],
   "source": [
    "df=df.rename(columns = column_names)"
   ]
  },
  {
   "cell_type": "code",
   "execution_count": 24,
   "id": "69e46d76",
   "metadata": {},
   "outputs": [],
   "source": [
    "df=df.rename(columns = column_names)\n",
    "# select a sample of the dataset\n",
    "simple_linear_regression_df=df[['Temperature outside the building (north side), in Celsius','Temperature in living room area, in Celsius' ]].sample(15,random_state=2)"
   ]
  },
  {
   "cell_type": "code",
   "execution_count": 26,
   "id": "1b7e36fe",
   "metadata": {},
   "outputs": [],
   "source": [
    "features_df =normalised_df.drop(columns=['Temperature outside the building (north side), in Celsius','Temperature in living room area, in Celsius'])\n",
    "heating_target=normalised_df['Temperature outside the building (north side), in Celsius']"
   ]
  },
  {
   "cell_type": "code",
   "execution_count": 27,
   "id": "ad61a5df",
   "metadata": {},
   "outputs": [],
   "source": [
    "from sklearn.model_selection import train_test_split\n",
    "x_train, x_test, y_train, y_test = train_test_split(features_df, heating_target,\n",
    "    test_size=0.3, random_state=1)"
   ]
  },
  {
   "cell_type": "code",
   "execution_count": 28,
   "id": "18f7e313",
   "metadata": {},
   "outputs": [],
   "source": [
    "\n",
    "from sklearn.linear_model import LinearRegression\n",
    "linear_model = LinearRegression()\n",
    "#fit the model to the training dataset.\n",
    "linear_model.fit(x_train,y_train)\n",
    "#obtain predictions\n",
    "predicted_values = linear_model.predict(x_test)"
   ]
  },
  {
   "cell_type": "code",
   "execution_count": 30,
   "id": "98def6ca",
   "metadata": {},
   "outputs": [
    {
     "data": {
      "text/plain": [
       "0.032"
      ]
     },
     "execution_count": 30,
     "metadata": {},
     "output_type": "execute_result"
    }
   ],
   "source": [
    "from sklearn.metrics import mean_squared_error\n",
    "rmse = np.sqrt(mean_squared_error(y_test,predicted_values))\n",
    "round(rmse,3)"
   ]
  },
  {
   "cell_type": "code",
   "execution_count": 31,
   "id": "8bf0202d",
   "metadata": {},
   "outputs": [
    {
     "data": {
      "text/plain": [
       "0.024"
      ]
     },
     "execution_count": 31,
     "metadata": {},
     "output_type": "execute_result"
    }
   ],
   "source": [
    "# MAE\n",
    "from sklearn.metrics import mean_absolute_error\n",
    "mae = mean_absolute_error(y_test, predicted_values)\n",
    "round(mae,3)"
   ]
  },
  {
   "cell_type": "code",
   "execution_count": 32,
   "id": "ec2e2c6c",
   "metadata": {},
   "outputs": [
    {
     "data": {
      "text/plain": [
       "5.986"
      ]
     },
     "execution_count": 32,
     "metadata": {},
     "output_type": "execute_result"
    }
   ],
   "source": [
    "# Residual Sum of Squares (RSS)\n",
    "import numpy as np\n",
    "rss = np.sum(np.square(y_test - predicted_values))\n",
    "round(rss, 3)"
   ]
  },
  {
   "cell_type": "code",
   "execution_count": 33,
   "id": "b759a4f9",
   "metadata": {},
   "outputs": [
    {
     "data": {
      "text/plain": [
       "0.968"
      ]
     },
     "execution_count": 33,
     "metadata": {},
     "output_type": "execute_result"
    }
   ],
   "source": [
    "# R Squared R^2\n",
    "from sklearn.metrics import r2_score\n",
    "r2_score = r2_score(y_test, predicted_values)\n",
    "round(r2_score, 3)"
   ]
  }
 ],
 "metadata": {
  "kernelspec": {
   "display_name": "Python 3 (ipykernel)",
   "language": "python",
   "name": "python3"
  },
  "language_info": {
   "codemirror_mode": {
    "name": "ipython",
    "version": 3
   },
   "file_extension": ".py",
   "mimetype": "text/x-python",
   "name": "python",
   "nbconvert_exporter": "python",
   "pygments_lexer": "ipython3",
   "version": "3.9.13"
  }
 },
 "nbformat": 4,
 "nbformat_minor": 5
}
